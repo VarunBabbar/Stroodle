{
 "cells": [
  {
   "cell_type": "code",
   "execution_count": 1,
   "metadata": {},
   "outputs": [
    {
     "name": "stdout",
     "output_type": "stream",
     "text": [
      "pygame 1.9.4\n",
      "Hello from the pygame community. https://www.pygame.org/contribute.html\n",
      "Got here 0\n",
      "Got here 1\n",
      "Got here 2\n",
      "Got here 3\n",
      "Got here 4\n"
     ]
    }
   ],
   "source": [
    "import time\n",
    "import boto3\n",
    "import json\n",
    "import requests\n",
    "from PIL import Image\n",
    "import io\n",
    "import os, sys\n",
    "import pygame\n",
    "from urllib.request import urlopen\n",
    "\n",
    "filename = \"story.txt\"\n",
    "\n",
    "file = open(filename, 'r')\n",
    "\n",
    "subscription_key = \"52e2c8faa1144077b4f44ef952f761db\"\n",
    "assert subscription_key\n",
    "search_url = \"https://api.cognitive.microsoft.com/bing/v7.0/images/search\"\n",
    "\n",
    "pygame.init()\n",
    "screen = pygame.display.set_mode((64,48))\n",
    "white=(255, 255, 255)\n",
    "\n",
    "screen.fill(white)\n",
    "#     pygame = pygame.img.load(image, namehint=\"\")\n",
    "image_url = urlopen(\"https://media-waterdeep.cursecdn.com/avatars/thumbnails/0/26/482/315/636238962276510242.jpeg?fbclid=IwAR2I-3-KfXwcqg0ISHiqzK2DBr9rQABaHgwfazFguacIJQ0pLwXiJgi_yDI\").read()\n",
    "# print(search_urls)\n",
    "print(\"Got here 0\")\n",
    "image_file = io.BytesIO(image_url)\n",
    "print(\"Got here 1\")\n",
    "image = pygame.image.load(image_file)\n",
    "print(\"Got here 2\")\n",
    "screen.blit(image,(0,0))    \n",
    "print(\"Got here 3\")\n",
    "pygame.display.flip()\n",
    "print(\"Got here 4\")\n",
    "#     pygame.display.update()\n"
   ]
  },
  {
   "cell_type": "code",
   "execution_count": 2,
   "metadata": {},
   "outputs": [
    {
     "ename": "NameError",
     "evalue": "name 'img' is not defined",
     "output_type": "error",
     "traceback": [
      "\u001b[0;31m-------------------------------------------------------------------\u001b[0m",
      "\u001b[0;31mNameError\u001b[0m                         Traceback (most recent call last)",
      "\u001b[0;32m<ipython-input-2-c1112ed90d17>\u001b[0m in \u001b[0;36m<module>\u001b[0;34m\u001b[0m\n\u001b[1;32m      1\u001b[0m \u001b[0mscreen\u001b[0m \u001b[0;34m=\u001b[0m \u001b[0mpygame\u001b[0m\u001b[0;34m.\u001b[0m\u001b[0mdisplay\u001b[0m\u001b[0;34m.\u001b[0m\u001b[0mset_mode\u001b[0m\u001b[0;34m(\u001b[0m\u001b[0;34m(\u001b[0m\u001b[0;36m640\u001b[0m\u001b[0;34m,\u001b[0m\u001b[0;36m480\u001b[0m\u001b[0;34m)\u001b[0m\u001b[0;34m)\u001b[0m\u001b[0;34m\u001b[0m\u001b[0m\n\u001b[0;32m----> 2\u001b[0;31m \u001b[0mscreen\u001b[0m\u001b[0;34m.\u001b[0m\u001b[0mblit\u001b[0m\u001b[0;34m(\u001b[0m\u001b[0mimg\u001b[0m\u001b[0;34m,\u001b[0m\u001b[0;34m(\u001b[0m\u001b[0;36m0\u001b[0m\u001b[0;34m,\u001b[0m\u001b[0;36m0\u001b[0m\u001b[0;34m)\u001b[0m\u001b[0;34m)\u001b[0m\u001b[0;34m\u001b[0m\u001b[0m\n\u001b[0m\u001b[1;32m      3\u001b[0m \u001b[0mpygame\u001b[0m\u001b[0;34m.\u001b[0m\u001b[0mdisplay\u001b[0m\u001b[0;34m.\u001b[0m\u001b[0mupdate\u001b[0m\u001b[0;34m(\u001b[0m\u001b[0;34m)\u001b[0m\u001b[0;34m\u001b[0m\u001b[0m\n",
      "\u001b[0;31mNameError\u001b[0m: name 'img' is not defined"
     ]
    }
   ],
   "source": [
    "screen = pygame.display.set_mode((640,480))\n",
    "screen.blit(img,(0,0))\n",
    "pygame.display.update()"
   ]
  },
  {
   "cell_type": "code",
   "execution_count": null,
   "metadata": {},
   "outputs": [],
   "source": []
  }
 ],
 "metadata": {
  "kernelspec": {
   "display_name": "Python 3",
   "language": "python",
   "name": "python3"
  },
  "language_info": {
   "codemirror_mode": {
    "name": "ipython",
    "version": 3
   },
   "file_extension": ".py",
   "mimetype": "text/x-python",
   "name": "python",
   "nbconvert_exporter": "python",
   "pygments_lexer": "ipython3",
   "version": "3.6.6"
  }
 },
 "nbformat": 4,
 "nbformat_minor": 2
}
